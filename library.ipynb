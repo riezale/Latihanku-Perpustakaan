{
 "metadata": {
  "language_info": {
   "codemirror_mode": {
    "name": "ipython",
    "version": 3
   },
   "file_extension": ".py",
   "mimetype": "text/x-python",
   "name": "python",
   "nbconvert_exporter": "python",
   "pygments_lexer": "ipython3",
   "version": "3.8.5"
  },
  "orig_nbformat": 2,
  "kernelspec": {
   "name": "python3",
   "display_name": "Python 3.8.5 64-bit ('base': conda)"
  },
  "interpreter": {
   "hash": "cc5f70855ac006f3de45a3cc3b9e7d8d53845e50458809cb162b0174266dec97"
  }
 },
 "nbformat": 4,
 "nbformat_minor": 2,
 "cells": [
  {
   "cell_type": "code",
   "execution_count": 22,
   "metadata": {},
   "outputs": [],
   "source": [
    "import pandas as pd\n",
    "import csv"
   ]
  },
  {
   "cell_type": "code",
   "execution_count": 23,
   "metadata": {},
   "outputs": [
    {
     "output_type": "stream",
     "name": "stdout",
     "text": [
      "\n"
     ]
    }
   ],
   "source": [
    "listbuku = pd.read_csv(\"listbuku.csv\")\n",
    "listbuku.set_index([\"NamaBuku\",\"TahunTerbit\",\"Genre\",\"ISSN\",\"Status\"])\n",
    "\n",
    "akunlogin = pd.read_csv(\"akunlogin.csv\")\n",
    "akunlogin.set_index([\"NamaMhs\",\"Kategori\",\"NIM\",\"Jurusan\",\"Angkatan\"])\n",
    "\n",
    "akun = pd.read_csv(\"akun.csv\")\n",
    "akun.set_index([\"NamaMhs\",\"Kategori\",\"NIM\",\"Jurusan\",\"Angkatan\"])\n",
    "\n",
    "peminjamanbuku = pd.read_csv(\"peminjamanbuku.csv\")\n",
    "peminjamanbuku.set_index([\"NamaMhs\",\"Kategori\",\"NIM\",\"NamaBuku\"])\n",
    "\n",
    "print(\"\")"
   ]
  },
  {
   "source": [
    "MENU REGISTER"
   ],
   "cell_type": "markdown",
   "metadata": {}
  },
  {
   "cell_type": "code",
   "execution_count": 24,
   "metadata": {
    "tags": []
   },
   "outputs": [],
   "source": [
    "def register():\n",
    "    akun = pd.read_csv(\"akun.csv\")\n",
    "    rNama = str(input(print(\"Masukkan Nama : \")))\n",
    "    print(\"Nama Anda : {}\\n\".format(rNama))\n",
    "\n",
    "    rKategori =int(input(print(\"1. Dosen || 2. Mahasiswa\")))\n",
    "    while rKategori != 1 and rKategori !=2:\n",
    "        rKategori = int(input(print(\"Masukkan Kategori ulang 1. Dosen || 2. Mahasiswa\")))\n",
    "    if rKategori == 1:\n",
    "        wKategori = \"Dosen\"\n",
    "    elif rKategori ==2:\n",
    "        wKategori = \"Mahasiswa\"\n",
    "    print(\"Anda adalah {} di Universitas ini\\n\".format(wKategori))\n",
    "\n",
    "    rNIM = str(input(print(\"Masukkan NIM Anda\")))\n",
    "    while akun[\"NIM\"].isin([rNIM]).any() or len(rNIM) <5 or len(rNIM)>5:\n",
    "        print(\"NIM Sudah tersedia atau NIM tidak valid\")\n",
    "        rNIM = str(input(print(\"NIM anda tidak valid, Masukkan NIM Ulang :\")))\n",
    "    print(\"Nim Anda : {}\\n\".format(rNIM))\n",
    "\n",
    "    rJurusan = int(input(print(\"1. Teknik dan Informatika || 2. Seni dan Design || 3. Bisnis dan Manajemen || 4. Film dan Animasi || 5. Komunikasi dan Jurnalistik\")))\n",
    "    while rJurusan >5 or rJurusan <=0:\n",
    "        rJurusan = int(input(print(\"Masukkan Jurusan ulang\")))\n",
    "\n",
    "    if rJurusan == 1:\n",
    "        wJurusan = \"Teknik dan Informatika\"\n",
    "    elif rJurusan ==2:\n",
    "        wJurusan = \"Seni dan Design\"\n",
    "    elif rJurusan ==3:\n",
    "        wJurusan = \"Bisnis dan Manajemen\"\n",
    "    elif rJurusan ==4:\n",
    "        wJurusan = \"Film dan Animasi\"\n",
    "    elif rJurusan ==5:\n",
    "        wJurusan = \"Komunikasi dan Jurnalistik\"\n",
    "    print(\"Jurusan Anda : {}\\n\".format(wJurusan))\n",
    "\n",
    "\n",
    "    rAngkatan = int(input(print(\"Masukkan Angkatan Masuk\")))\n",
    "    while rAngkatan < 2006 or rAngkatan > 2021:\n",
    "        rAngkatan = int(input(print(\"Masukkan Angkatan Masuk Ulang\")))\n",
    "    print(\"Anda angkatan tahun : {}\\n\".format(rAngkatan))\n",
    "\n",
    "    inputAkun = [rNama,wKategori,rNIM,wJurusan,rAngkatan]\n",
    "\n",
    "    with open(\"akun.csv\",\"a\",encoding=\"UTF8\",newline=\"\") as akun:\n",
    "        writer = csv.writer(akun)\n",
    "        writer.writerow(inputAkun)\n",
    "    \n",
    "    print(\"\\nAkun Perpustakaan berhasil dibuat!\")\n",
    "    print(\"Nama Anda : {}\".format(rNama))\n",
    "    print(\"NIM Anda  : {}\".format(rNIM))\n",
    "    login()\n"
   ]
  },
  {
   "source": [
    "MENU LOGIN"
   ],
   "cell_type": "markdown",
   "metadata": {}
  },
  {
   "cell_type": "code",
   "execution_count": 25,
   "metadata": {},
   "outputs": [],
   "source": [
    "def login():\n",
    "    akun = pd.read_csv(\"akun.csv\")\n",
    "    akunlogin = pd.read_csv(\"akunlogin.csv\")\n",
    "    print(\"\\n\\nSilahkan Login\")\n",
    "    lNama = str(input(print(\"Masukkan Nama Anda || Type \\\"Exit\\\" untuk keluar\")))\n",
    "    lNIM = str(input(print(\"Masukkan NIM Anda || Type \\\"Exit\\\" untuk keluar\")))\n",
    "    if lNama == \"Exit\" or lNIM == \"Exit\":\n",
    "        print(\"Exit\")\n",
    "        return\n",
    "    elif akun[\"NamaMhs\"].isin([lNama]).any() and akun[\"NIM\"].isin([lNIM]).any():\n",
    "        print(\"Akun Terdaftar\")\n",
    "\n",
    "        indexNama = akun.index[akun[\"NamaMhs\"] == lNama]\n",
    "        namaLogin = akun.loc[indexNama,\"NamaMhs\"].values[0]\n",
    "        kategoriLogin = akun.loc[indexNama,\"Kategori\"].values[0]\n",
    "        nimLogin = akun.loc[indexNama,\"NIM\"].values[0]\n",
    "        jurusanLogin = akun.loc[indexNama,\"Jurusan\"].values[0]\n",
    "        angkatanLogin = akun.loc[indexNama,\"Angkatan\"].values[0]\n",
    "\n",
    "        akunlogin.loc[0,\"NamaMhs\"] = namaLogin\n",
    "        akunlogin.loc[0,\"Kategori\"] = kategoriLogin\n",
    "        akunlogin.loc[0,\"NIM\"]= nimLogin\n",
    "        akunlogin.loc[0,\"Jurusan\"] = jurusanLogin\n",
    "        akunlogin.loc[0,\"Angkatan\"] = angkatanLogin\n",
    "\n",
    "        akunlogin.to_csv(\"akunlogin.csv\",index=False)\n",
    "\n",
    "        indexingakunlogin = akun.index[akun[\"NamaMhs\"] == lNama ]\n",
    "        tampungkategori = akun.loc[indexingakunlogin,\"Kategori\"].values[0]\n",
    "        \n",
    "        if tampungkategori == \"Admin\":\n",
    "            homeAdmin()\n",
    "        elif tampungkategori == \"Dosen\" or tampungkategori == \"Mahasiswa\":\n",
    "            print(\"Mahasiswa/Dosen\")\n",
    "            home()\n",
    "        \n",
    "    else:\n",
    "        print(\"Nama / NIM Salah\")\n",
    "        login()"
   ]
  },
  {
   "source": [
    "TAMPILAN ADMIN TAMBAH BUKU"
   ],
   "cell_type": "markdown",
   "metadata": {}
  },
  {
   "cell_type": "code",
   "execution_count": 26,
   "metadata": {},
   "outputs": [],
   "source": [
    "def tambahBuku():\n",
    "    listbuku = pd.read_csv(\"listbuku.csv\")\n",
    "    print(\"============================================\")\n",
    "    namaBuku = str(input(print(\"Masukkan Nama Buku\")))\n",
    "    if listbuku[\"NamaBuku\"].isin([namaBuku]).any():\n",
    "        print(\"Nama Buku Sudah tersedia. . .\")\n",
    "        tambahBuku()\n",
    "    print(\"Nama Buku {}\".format(namaBuku))\n",
    "    print(\"============================================\\n\")\n",
    "\n",
    "    print(\"============================================\")\n",
    "    tahunBuku = int(input(print(\"Masukkan Tahun Terbit Buku\")))\n",
    "    print(\"Tahun Buku {}\".format(tahunBuku))\n",
    "    print(\"============================================\\n\")\n",
    "\n",
    "    print(\"============================================\")\n",
    "    print(\"1. Fiksi \\t\\t 6. Fantasi\")\n",
    "    print(\"2. Hiburan \\t\\t 7. Horror\")\n",
    "    print(\"3. Ilmu Pengetahuan \\t 8. Komik\")\n",
    "    print(\"4. Novel \\t\\t 9. Politik\")\n",
    "    print(\"5. Artikel \\t\\t 10. Legenda\")\n",
    "    genreBuku = int(input(print(\"Masukkan genre Buku\")))\n",
    "    \n",
    "    if genreBuku ==1:\n",
    "        genreBuku2 = \"Fiksi\"\n",
    "    elif genreBuku ==2:\n",
    "        genreBuku2 = \"Hiburan\"\n",
    "    elif genreBuku ==3:\n",
    "        genreBuku2 = \"Ilmu Pengetahuan\"\n",
    "    elif genreBuku ==4:\n",
    "        genreBuku2 = \"Novel\"\n",
    "    elif genreBuku ==5:\n",
    "        genreBuku2 = \"Artikel\"\n",
    "    elif genreBuku ==6:\n",
    "        genreBuku2 = \"Fantasi\"\n",
    "    elif genreBuku ==7:\n",
    "        genreBuku2 = \"Horror\"\n",
    "    elif genreBuku ==8:\n",
    "        genreBuku2 = \"Komik\"\n",
    "    elif genreBuku ==9:\n",
    "        genreBuku2 = \"Politik\"\n",
    "    elif genreBuku ==10:\n",
    "        genreBuku2 = \"Legenda\"\n",
    "\n",
    "    print(\"Genre Buku {}\".format(genreBuku2))\n",
    "    print(\"============================================\\n\")\n",
    "\n",
    "    print(\"============================================\")\n",
    "    issnBuku = int(input(print(\"Masukkan ISSN Buku\")))\n",
    "    print(\"ISSN Buku {}\".format(issnBuku))\n",
    "    if listbuku[\"ISSN\"].isin([issnBuku]).any():\n",
    "        print(\"ISSN Sudah ada. . .\")\n",
    "        tambahBuku()\n",
    "    print(\"============================================\\n\")\n",
    "\n",
    "    print(\"============================================\")\n",
    "    statusBuku = str(input(print(\"Masukkan Status Buku (Tersedia/Terpinjam)\")))\n",
    "    print(\"Status Buku {}\".format(statusBuku))\n",
    "    print(\"============================================\\n\")\n",
    "\n",
    "    addbuku = [namaBuku,tahunBuku,genreBuku2,issnBuku,statusBuku]\n",
    "\n",
    "    with open(\"listbuku.csv\",\"a\",encoding=\"UTF8\",newline='') as lb:\n",
    "        writer=csv.writer(lb)\n",
    "        writer.writerow(addbuku)\n",
    "\n",
    "    CRUDBuku()"
   ]
  },
  {
   "source": [
    "TAMPILAN ADMIN LIAT BUKU"
   ],
   "cell_type": "markdown",
   "metadata": {}
  },
  {
   "cell_type": "code",
   "execution_count": 27,
   "metadata": {},
   "outputs": [],
   "source": [
    "def liatBuku():\n",
    "    listbuku = pd.read_csv(\"listbuku.csv\")\n",
    "    print(listbuku)\n",
    "    CRUDBuku()"
   ]
  },
  {
   "source": [
    "TAMPILAN ADMIN UPDATE BUKU"
   ],
   "cell_type": "markdown",
   "metadata": {}
  },
  {
   "cell_type": "code",
   "execution_count": 28,
   "metadata": {},
   "outputs": [],
   "source": [
    "def updateBuku():\n",
    "    listbuku = pd.read_csv(\"listbuku.csv\")\n",
    "    upnamabuku = str(input(print(\"Masukkan Nama Buku\")))\n",
    "    if listbuku[\"NamaBuku\"].isin([upnamabuku]).any():\n",
    "        indexnamabuku = listbuku.index[listbuku[\"NamaBuku\"]== upnamabuku]\n",
    "        upnamabukubaru = str(input(print(\"Masukkan Nama Buku yang Baru\")))    \n",
    "    else:\n",
    "        print(\"Buku Tidak Ada\")\n",
    "        updateBuku()\n",
    "\n",
    "    uptahunbuku = int(input(print(\"Masukkan Tahun yang Baru\")))\n",
    "    print(\"============================================\")\n",
    "    print(\"1. Fiksi \\t\\t 6. Fantasi\")\n",
    "    print(\"2. Hiburan \\t\\t 7. Horror\")\n",
    "    print(\"3. Ilmu Pengetahuan \\t 8. Komik\")\n",
    "    print(\"4. Novel \\t\\t 9. Politik\")\n",
    "    print(\"5. Artikel \\t\\t 10. Legenda\")\n",
    "    upgenrebuku = int(input(print(\"Masukkan genre Buku\")))  \n",
    "    if upgenrebuku ==1:\n",
    "        upgenrebuku2 = \"Fiksi\"\n",
    "    elif upgenrebuku ==2:\n",
    "        upgenrebuku2 = \"Hiburan\"\n",
    "    elif upgenrebuku ==3:\n",
    "        upgenrebuku2 = \"Ilmu Pengetahuan\"\n",
    "    elif upgenrebuku ==4:\n",
    "        upgenrebuku2 = \"Novel\"\n",
    "    elif upgenrebuku ==5:\n",
    "        upgenrebuku2 = \"Artikel\"\n",
    "    elif upgenrebuku ==6:\n",
    "        upgenrebuku2 = \"Fantasi\"\n",
    "    elif upgenrebuku ==7:\n",
    "        upgenrebuku2 = \"Horror\"\n",
    "    elif upgenrebuku ==8:\n",
    "        upgenrebuku2 = \"Komik\"\n",
    "    elif upgenrebuku ==9:\n",
    "        upgenrebuku2 = \"Politik\"\n",
    "    elif upgenrebuku ==10:\n",
    "        upgenrebuku2 = \"Legenda\"\n",
    "\n",
    "    upissnbuku = int(input(print(\"Masukkan ISSN Buku baru\")))\n",
    "    if listbuku[\"ISSN\"].isin([upissnbuku]).any():\n",
    "        print(\"ISSN Sudah tersedia\")\n",
    "        updateBuku()\n",
    "    else:\n",
    "        upstatusbuku = str(input(print(\"Masukkan Status baru\")))\n",
    "\n",
    "    listbuku.loc[indexnamabuku,\"NamaBuku\"] = upnamabukubaru\n",
    "    listbuku.loc[indexnamabuku,\"TahunTerbit\"] = uptahunbuku\n",
    "    listbuku.loc[indexnamabuku,\"Genre\"] = upgenrebuku2\n",
    "    listbuku.loc[indexnamabuku,\"ISSN\"] = upissnbuku\n",
    "    listbuku.loc[indexnamabuku,\"Status\"] = upstatusbuku\n",
    "     \n",
    "    listbuku.to_csv(\"listbuku.csv\",index=False)\n",
    "    CRUDBuku()"
   ]
  },
  {
   "source": [
    "TAMPILAN ADMIN HAPUS BUKU"
   ],
   "cell_type": "markdown",
   "metadata": {}
  },
  {
   "cell_type": "code",
   "execution_count": 29,
   "metadata": {},
   "outputs": [],
   "source": [
    "def hapusBuku():\n",
    "    listbuku = pd.read_csv(\"listbuku.csv\")\n",
    "    hapusnamabuku =str(input(print(\"Masukkan Nama Buku yang Ingin Dihapus\")))\n",
    "    if listbuku[\"NamaBuku\"].isin([hapusnamabuku]).any():\n",
    "        carinamabuku = listbuku.index[listbuku[\"NamaBuku\"] == hapusnamabuku].values[0]\n",
    "        print(carinamabuku)\n",
    "        tampilnamabuku = listbuku.loc[[carinamabuku]]\n",
    "        print(tampilnamabuku)\n",
    "        pilihhapus = str(input(print(\"Apakah Yakin ingin menghapus buku ini ? (YES/NO)\")))\n",
    "        if pilihhapus == \"YES\":\n",
    "            listbuku.drop(carinamabuku,axis=0,inplace=True)\n",
    "            listbuku.to_csv(\"listbuku.csv\",index=False)\n",
    "            print(\"Buku telah dihapus\")\n",
    "            CRUDBuku()\n",
    "        elif pilihhapus ==\"NO\":\n",
    "            print(\"Batal Hapus\")\n",
    "            hapusBuku()\n",
    "    elif hapusnamabuku == \"Exit\":\n",
    "        CRUDBuku()\n",
    "    else:\n",
    "        print(\"Buku tidak ditermukan\")\n",
    "        hapusBuku()"
   ]
  },
  {
   "source": [
    "MENU ADMIN CRUD BUKU"
   ],
   "cell_type": "markdown",
   "metadata": {}
  },
  {
   "cell_type": "code",
   "execution_count": 30,
   "metadata": {},
   "outputs": [],
   "source": [
    "def CRUDBuku():\n",
    "    print(\"Action !\")\n",
    "    print(\"1. Tambah Buku\")\n",
    "    print(\"2. Liat Semua Buku\")\n",
    "    print(\"3. Update Buku\")\n",
    "    print(\"4. Hapus Buku\")\n",
    "    print(\"5. Back to Menu\")\n",
    "    adminbuku = int(input(print(\"Pilihan : \")))\n",
    "    if adminbuku == 1:\n",
    "        tambahBuku()\n",
    "    elif adminbuku ==2:\n",
    "        liatBuku()\n",
    "    elif adminbuku ==3:\n",
    "        updateBuku()\n",
    "    elif adminbuku ==4:\n",
    "        hapusBuku()\n",
    "    elif adminbuku ==5:\n",
    "        homeAdmin()"
   ]
  },
  {
   "source": [
    "MENU ADMIN LIHAT SEMUA PEMINJAMAN"
   ],
   "cell_type": "markdown",
   "metadata": {}
  },
  {
   "cell_type": "code",
   "execution_count": 31,
   "metadata": {},
   "outputs": [],
   "source": [
    "def lihatPinjam():\n",
    "    peminjamanbuku = pd.read_csv(\"peminjamanbuku.csv\")\n",
    "    print(peminjamanbuku)\n",
    "    homeAdmin()"
   ]
  },
  {
   "source": [
    "TAMPILAN SEMUA BUKU MAHASISWA DAN DOSEN"
   ],
   "cell_type": "markdown",
   "metadata": {}
  },
  {
   "cell_type": "code",
   "execution_count": 32,
   "metadata": {},
   "outputs": [],
   "source": [
    "def lihatsemuabuku():\n",
    "    print(\"\\n\\n\")\n",
    "    listbuku = pd.read_csv(\"listbuku.csv\")\n",
    "    print(listbuku)\n",
    "    tampilanBuku()"
   ]
  },
  {
   "source": [
    "TAMPILAN CARI BUKU MAHASISWA DAN DOSEN"
   ],
   "cell_type": "markdown",
   "metadata": {}
  },
  {
   "cell_type": "code",
   "execution_count": 33,
   "metadata": {},
   "outputs": [],
   "source": [
    "def caribuku():\n",
    "   print(\"\\n\")\n",
    "   listbuku = pd.read_csv(\"listbuku.csv\")\n",
    "   carinamabuku = str(input(print(\"Masukkan Nama Buku\")))\n",
    "   if listbuku[\"NamaBuku\"].isin([carinamabuku]).any():\n",
    "        indexnamabuku = listbuku.index[listbuku[\"NamaBuku\"] == carinamabuku].values[0]\n",
    "        tampilnamabuku = listbuku.loc[[indexnamabuku]]\n",
    "        print(tampilnamabuku)\n",
    "        tampilanBuku()\n",
    "   else:\n",
    "      print(\"Buku tidak ada, atau anda salah dalam mengetik\")\n",
    "      tampilanBuku()\n",
    "   "
   ]
  },
  {
   "source": [
    "TAMPILAN PINJAM BUKU MAHASISWA DAN DOSEN"
   ],
   "cell_type": "markdown",
   "metadata": {}
  },
  {
   "cell_type": "code",
   "execution_count": 34,
   "metadata": {},
   "outputs": [],
   "source": [
    "def pinjamBuku():\n",
    "    listbuku = pd.read_csv(\"listbuku.csv\")\n",
    "    akunlogin = pd.read_csv(\"akunlogin.csv\")\n",
    "    peminjamanbuku = pd.read_csv(\"peminjamanbuku.csv\")\n",
    "    print(\"\\n\\n\")\n",
    "    pinjamnama = str(input(print(\"Masukkan nama buku yang ingin dipinjam\")))\n",
    "    if listbuku[\"NamaBuku\"].isin([pinjamnama]).any():\n",
    "        caripinjam = listbuku.index[listbuku[\"NamaBuku\"] == pinjamnama].values[0]\n",
    "        tampilnama = listbuku.loc[[caripinjam]]\n",
    "        print(tampilnama)\n",
    "        \n",
    "        namapinjam = akunlogin.loc[0,\"NamaMhs\"]\n",
    "        getstatus = listbuku.loc[caripinjam,\"Status\"]\n",
    "        jumlahpinjam = peminjamanbuku[(peminjamanbuku[\"NamaMhs\"] == namapinjam)].count().values[0]\n",
    "        if jumlahpinjam <2 and getstatus == \"Tersedia\":\n",
    "            pilihpinjam = str(input(print(\"Ingin Pinjam Buku ini ? (YES/NO)\")))\n",
    "            if pilihpinjam == \"YES\":\n",
    "                \n",
    "                masukpinjamnamabuku = listbuku.loc[caripinjam,\"NamaBuku\"]\n",
    "                masukpinjamkategori = akunlogin.loc[0,\"Kategori\"]\n",
    "                masukpinjamnama = akunlogin.loc[0,\"NamaMhs\"]\n",
    "                masukpinjamnim = akunlogin.loc[0,\"NIM\"]\n",
    "                listbuku.loc[caripinjam,\"Status\"] = \"Terpinjam\"\n",
    "\n",
    "                listbuku.to_csv(\"listbuku.csv\",index=False)\n",
    "                print(\"Buku telah dimasukan dalam daftar pinjam\")\n",
    "\n",
    "                masukpinjaman = [masukpinjamnama,masukpinjamkategori,masukpinjamnim,masukpinjamnamabuku]\n",
    "\n",
    "                with open(\"peminjamanbuku.csv\",'a',encoding='UTF8',newline='') as pb:\n",
    "                    writer = csv.writer(pb)\n",
    "                    writer.writerow(masukpinjaman)\n",
    "\n",
    "                home()\n",
    "            elif pilihpinjam == \"NO\":\n",
    "                print(\"Peminjaman dibatalkan\")\n",
    "                pinjamBuku()\n",
    "            else:\n",
    "                print(\"Keyword salah\")\n",
    "\n",
    "        elif jumlahpinjam <2 and getstatus !=\"Tersedia\":\n",
    "            print(\"Buku sudah dipinjam orang lain\")\n",
    "            pinjamBuku()\n",
    "        elif jumlahpinjam >=2 and getstatus ==\"Tersedia\":\n",
    "            print(\"Jumlah sudah melebihi batas\")\n",
    "            tampilanBuku()\n",
    "        elif jumlahpinjam >2 and getstatus !=\"Tersedia\":\n",
    "            print(\"Jumlah pinjam sudah melebihi dan buku tidak tersedia\")\n",
    "            tampilanBuku()\n",
    "    elif pinjamnama == \"EXIT\":\n",
    "        print(\"Balik ke menu\")\n",
    "        tampilanBuku()\n",
    "    else:\n",
    "        print(\"Buku tidak tersedia\")\n",
    "        pinjamBuku()"
   ]
  },
  {
   "source": [
    "TAMPILAN MAHASISWA DAN DOSEN MELIHAT BUKU PEMINJAMAN"
   ],
   "cell_type": "markdown",
   "metadata": {}
  },
  {
   "cell_type": "code",
   "execution_count": 35,
   "metadata": {},
   "outputs": [],
   "source": [
    "def cekpinjam():\n",
    "    akunlogin = pd.read_csv(\"akunlogin.csv\")\n",
    "    peminjamanbuku = pd.read_csv(\"peminjamanbuku.csv\")\n",
    "\n",
    "    namamhslogin = akunlogin.loc[0,\"NamaMhs\"]\n",
    "    nimlogin = akunlogin.loc[0,\"NIM\"]\n",
    "\n",
    "    print(\"Selamat Datang, {}\".format(namamhslogin))\n",
    "    if peminjamanbuku[\"NamaMhs\"].isin([namamhslogin]).any():\n",
    "\n",
    "        namapeminjam = peminjamanbuku.index[peminjamanbuku[\"NamaMhs\"] == namamhslogin].values[0]\n",
    "        hasilfilter = peminjamanbuku.loc[peminjamanbuku['NamaMhs'] == namamhslogin]\n",
    "    else:\n",
    "        print(\"Kamu belum ada meminjam buku\")\n",
    "        home()\n",
    "    print(hasilfilter)\n",
    "    home()\n"
   ]
  },
  {
   "source": [
    "TAMPILAN DOSEN DAN MAHASISWA KEMBALIKAN BUKU"
   ],
   "cell_type": "markdown",
   "metadata": {}
  },
  {
   "cell_type": "code",
   "execution_count": 36,
   "metadata": {},
   "outputs": [],
   "source": [
    "def kembalikanbuku():\n",
    "    listbuku = pd.read_csv(\"listbuku.csv\")\n",
    "    peminjamanbuku = pd.read_csv(\"peminjamanbuku.csv\")\n",
    "    akunlogin = pd.read_csv(\"akunlogin.csv\")\n",
    "    print(\"\\n\")\n",
    "    getakun = akunlogin.loc[0,\"NamaMhs\"]\n",
    "    if peminjamanbuku[\"NamaMhs\"].isin([getakun]).any():\n",
    "        checkakunpinjam = peminjamanbuku.loc[peminjamanbuku[\"NamaMhs\"] == getakun] \n",
    "        print(\"Buku yang Anda pinjam\")\n",
    "        print(checkakunpinjam)\n",
    "        balikbuku = str(input(print(\"Buku mana yang ingin Anda balikkan ? || Type \\\"EXIT\\\" untuk balik ke manu\")))\n",
    "        if peminjamanbuku[\"NamaBuku\"].isin([balikbuku]).any():\n",
    "            indexnamabuku = peminjamanbuku.index[peminjamanbuku[\"NamaBuku\"] == balikbuku].values[0]\n",
    "            peminjamanbuku.drop(indexnamabuku,axis=0,inplace=True)\n",
    "            peminjamanbuku.to_csv(\"peminjamanbuku.csv\",index=False)\n",
    "\n",
    "            indexlistbuku = listbuku.index[listbuku[\"NamaBuku\"] == balikbuku]\n",
    "            listbuku.loc[indexlistbuku,\"Status\"] = \"Tersedia\"\n",
    "            listbuku.to_csv(\"listbuku.csv\",index=False)\n",
    "\n",
    "            print(\"Buku telah dikembalikan\")\n",
    "            home()\n",
    "        elif balikbuku ==\"EXIT\":\n",
    "            home()\n",
    "        else:\n",
    "            print(\"Buku yang kamu masukkan tidak ada dalam daftar\")\n",
    "            kembalikanbuku()\n",
    "    else:\n",
    "        print(\"Anda belum meminjam buku\")\n",
    "        home() "
   ]
  },
  {
   "source": [
    "TAMPILAN BUKU MAHASISWA DAN DOSEN"
   ],
   "cell_type": "markdown",
   "metadata": {}
  },
  {
   "cell_type": "code",
   "execution_count": 37,
   "metadata": {},
   "outputs": [],
   "source": [
    "def tampilanBuku():\n",
    "    listbuku = pd.read_csv(\"listbuku.csv\")\n",
    "    print(\"\\n\\n\")\n",
    "    print(\"1. Lihat Semua Buku\")\n",
    "    print(\"2. Filter Buku\")\n",
    "    print(\"3. Cari Buku\")\n",
    "    print(\"4. Back to Menu\")\n",
    "    tampilbuku = int(input(print(\"Masukkan Pilihan\")))\n",
    "    if tampilbuku ==1:\n",
    "        lihatsemuabuku()\n",
    "    elif tampilbuku ==2:\n",
    "        filterbuku = str(input(print(\"Masukkan Pilihan Berdasarkan Genre\")))\n",
    "        if listbuku[\"Genre\"].isin([filterbuku]).any():   \n",
    "            filtergenre = listbuku.loc[listbuku[\"Genre\"] == filterbuku]\n",
    "            print(filtergenre)\n",
    "            tampilanBuku()\n",
    "        elif ~listbuku[\"Genre\"].isin([filterbuku]).any():\n",
    "            print(\"Genre Tidak ada atau Genre Belum ada\")\n",
    "            tampilanBuku()\n",
    "    elif tampilbuku ==3:\n",
    "        caribuku()\n",
    "    elif tampilbuku ==4:\n",
    "        home()\n",
    "    else:\n",
    "        print(\"Perintah tidak tersedia\")"
   ]
  },
  {
   "source": [
    "TAMPILAN MENU ADMIN"
   ],
   "cell_type": "markdown",
   "metadata": {}
  },
  {
   "cell_type": "code",
   "execution_count": 38,
   "metadata": {},
   "outputs": [],
   "source": [
    "def homeAdmin():\n",
    "    print(\"1. CRUD Buku\")\n",
    "    print(\"2. Lihat Semua Pinjaman Buku\")\n",
    "    print(\"3. Exit\")\n",
    "    pilihadmin = int(input(print(\"Masukkan pilihan\")))\n",
    "    if pilihadmin == 1:\n",
    "        CRUDBuku()\n",
    "    elif pilihadmin ==2:\n",
    "        lihatPinjam()\n",
    "    elif pilihadmin ==3:\n",
    "        return\n",
    "    else:\n",
    "        print(\"Pilihan Salah!\")\n",
    "        homeAdmin()\n",
    "    "
   ]
  },
  {
   "source": [
    "TAMPILAN MENU MAHASISWA DAN DOSEN"
   ],
   "cell_type": "markdown",
   "metadata": {}
  },
  {
   "cell_type": "code",
   "execution_count": 39,
   "metadata": {},
   "outputs": [],
   "source": [
    "def home():\n",
    "    akunlogin = pd.read_csv(\"akunlogin.csv\")\n",
    "    namamhs = akunlogin.loc[0,\"NamaMhs\"]\n",
    "    print(\"\\n\\n\")\n",
    "    print(\"Selamat Datang {}\".format(namamhs))\n",
    "    print(\"1. Lihat Semua Buku \")\n",
    "    print(\"2. Pinjam Buku\")\n",
    "    print(\"3. Cek Peminjaman\")\n",
    "    print(\"4. Kembalikan Buku\")\n",
    "    print(\"5. Exit\")\n",
    "    homemd= int(input(print(\"Masukkan Pilihan\")))\n",
    "    if homemd==1:\n",
    "        tampilanBuku()\n",
    "    elif homemd==2:\n",
    "        pinjamBuku()\n",
    "    elif homemd==3:\n",
    "        cekpinjam()\n",
    "    elif homemd==4:\n",
    "        kembalikanbuku()\n",
    "    elif homemd ==5:\n",
    "        akunlogin.drop(0,axis=0,inplace=True)\n",
    "        akunlogin.to_csv(\"akunlogin.csv\",index=False)\n",
    "        return\n",
    "    else:\n",
    "        print(\"keyword salah\")\n",
    "        home()"
   ]
  },
  {
   "source": [
    "START PROGRAM"
   ],
   "cell_type": "markdown",
   "metadata": {}
  },
  {
   "cell_type": "code",
   "execution_count": 40,
   "metadata": {},
   "outputs": [],
   "source": [
    "def landing():\n",
    "    print(\"1. Login\")\n",
    "    print(\"2. Register\")\n",
    "    landinginput = int(input(print(\"Masukkan pilihan\")))\n",
    "    if landinginput == 1:\n",
    "        login()\n",
    "    elif landinginput ==2 :\n",
    "        register()\n",
    "    else:\n",
    "        print(\"Keyword salah\")\n",
    "        landing()"
   ]
  },
  {
   "cell_type": "code",
   "execution_count": 41,
   "metadata": {},
   "outputs": [
    {
     "output_type": "stream",
     "name": "stdout",
     "text": [
      "1. Login\n",
      "2. Register\n",
      "Masukkan pilihan\n",
      "\n",
      "\n",
      "Silahkan Login\n",
      "Masukkan Nama Anda || Type \"Exit\" untuk keluar\n",
      "Masukkan NIM Anda || Type \"Exit\" untuk keluar\n",
      "Akun Terdaftar\n",
      "Mahasiswa/Dosen\n",
      "\n",
      "\n",
      "\n",
      "Selamat Datang Cek\n",
      "1. Lihat Semua Buku \n",
      "2. Pinjam Buku\n",
      "3. Cek Peminjaman\n",
      "4. Kembalikan Buku\n",
      "5. Exit\n",
      "Masukkan Pilihan\n",
      "Selamat Datang, Cek\n",
      "  NamaMhs Kategori    NIM NamaBuku\n",
      "2     Cek    Dosen  10000     Bobo\n",
      "\n",
      "\n",
      "\n",
      "Selamat Datang Cek\n",
      "1. Lihat Semua Buku \n",
      "2. Pinjam Buku\n",
      "3. Cek Peminjaman\n",
      "4. Kembalikan Buku\n",
      "5. Exit\n",
      "Masukkan Pilihan\n"
     ]
    }
   ],
   "source": [
    "landing()"
   ]
  },
  {
   "cell_type": "code",
   "execution_count": null,
   "metadata": {},
   "outputs": [],
   "source": []
  }
 ]
}